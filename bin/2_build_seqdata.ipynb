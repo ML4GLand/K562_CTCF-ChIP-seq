{
 "cells": [
  {
   "cell_type": "markdown",
   "metadata": {},
   "source": [
    "# Build a SeqData"
   ]
  },
  {
   "cell_type": "code",
   "execution_count": 1,
   "metadata": {},
   "outputs": [
    {
     "name": "stdout",
     "output_type": "stream",
     "text": [
      "The history saving thread hit an unexpected error (DatabaseError('database disk image is malformed')).History will not be written to the database.\n"
     ]
    },
    {
     "name": "stderr",
     "output_type": "stream",
     "text": [
      "OMP: Info #276: omp_set_nested routine deprecated, please use omp_set_max_active_levels instead.\n"
     ]
    }
   ],
   "source": [
    "# Imports\n",
    "import os\n",
    "import numpy as np\n",
    "import seqdata as sd"
   ]
  },
  {
   "cell_type": "code",
   "execution_count": 2,
   "metadata": {},
   "outputs": [],
   "source": [
    "# TODO: change to your path\n",
    "data_dir = \"/cellar/users/aklie/data/datasets/K562_CTCF-ChIP-seq/data\""
   ]
  },
  {
   "cell_type": "code",
   "execution_count": 3,
   "metadata": {},
   "outputs": [
    {
     "data": {
      "text/plain": [
       "('/cellar/users/aklie/data/datasets/K562_CTCF-ChIP-seq/data/peaks.bed',\n",
       " ['/cellar/users/aklie/data/datasets/K562_CTCF-ChIP-seq/data/plus.bw',\n",
       "  '/cellar/users/aklie/data/datasets/K562_CTCF-ChIP-seq/data/minus.bw'])"
      ]
     },
     "execution_count": 3,
     "metadata": {},
     "output_type": "execute_result"
    }
   ],
   "source": [
    "# Set-up all file paths\n",
    "peaks = os.path.join(data_dir, \"K562_CTCF-ChIP-seq_peaks.bed\")\n",
    "signals = [\n",
    "    os.path.join(data_dir, \"ENCSR000AKO_plus_counts.bw\"),\n",
    "    os.path.join(data_dir, \"ENCSR000AKO_minus_counts.bw\")\n",
    "]\n",
    "sample_names = ['signal+', 'signal-']\n",
    "fasta = os.path.join(data_dir, \"hg38.fa\")\n",
    "peaks, signals"
   ]
  },
  {
   "cell_type": "code",
   "execution_count": 4,
   "metadata": {},
   "outputs": [
    {
     "data": {
      "text/plain": [
       "'/cellar/users/aklie/data/datasets/K562_CTCF-ChIP-seq/data/K562_CTCF-ChIP-seq.zarr'"
      ]
     },
     "execution_count": 4,
     "metadata": {},
     "output_type": "execute_result"
    }
   ],
   "source": [
    "# Make output directory if doesn't exist\n",
    "out = os.path.join(data_dir, \"K562_CTCF-ChIP-seq.zarr\")\n",
    "out"
   ]
  },
  {
   "cell_type": "code",
   "execution_count": 5,
   "metadata": {},
   "outputs": [
    {
     "name": "stderr",
     "output_type": "stream",
     "text": [
      "100%|██████████| 51759/51759 [02:15<00:00, 381.68it/s] \n",
      "OMP: Info #276: omp_set_nested routine deprecated, please use omp_set_max_active_levels instead.\n",
      "OMP: Info #276: omp_set_nested routine deprecated, please use omp_set_max_active_levels instead.\n",
      "100%|██████████| 51759/51759 [00:10<00:00, 5162.36it/s]\n",
      "100%|██████████| 51759/51759 [00:10<00:00, 5149.47it/s]\n"
     ]
    }
   ],
   "source": [
    "# Compose a SeqData from a set of files - only run this once!\n",
    "sdata = sd.from_region_files(\n",
    "    sd.GenomeFASTA(\n",
    "        'seq',\n",
    "        fasta,\n",
    "        batch_size=2048,\n",
    "        n_threads=2,\n",
    "    ),\n",
    "    sd.BigWig(\n",
    "        'cov',\n",
    "        signals,\n",
    "        sample_names,\n",
    "        batch_size=2048,\n",
    "        n_jobs=2,\n",
    "        threads_per_job=2,\n",
    "    ),\n",
    "    path=out,\n",
    "    fixed_length=2114,\n",
    "    bed=peaks,\n",
    "    overwrite=True,\n",
    "    max_jitter=128\n",
    ")"
   ]
  },
  {
   "cell_type": "markdown",
   "metadata": {},
   "source": [
    "# Check against pyBigWig"
   ]
  },
  {
   "cell_type": "code",
   "execution_count": 6,
   "metadata": {},
   "outputs": [],
   "source": [
    "import pyBigWig\n",
    "import matplotlib.pyplot as plt\n",
    "import seaborn as sns\n",
    "\n",
    "def plot_tracks(tracks, interval, height=1.5, colors=None):\n",
    "  _, axes = plt.subplots(len(tracks), 1, figsize=(20, height * len(tracks)), sharex=True)\n",
    "  if not isinstance(axes, np.ndarray):\n",
    "    axes = [axes]\n",
    "  for ax, (title, y) in zip(axes, tracks.items()):\n",
    "    if colors is not None:\n",
    "      ax.fill_between(np.linspace(interval[\"start\"], interval[\"end\"], num=len(y)), y, color=colors[title])\n",
    "    else:\n",
    "      ax.fill_between(np.linspace(interval[\"start\"], interval[\"end\"], num=len(y)), y)\n",
    "    ax.set_title(title)\n",
    "    sns.despine(top=True, right=True, bottom=True)\n",
    "  ax.set_xlabel(f\"{interval['chrom']}:{interval['start']}-{interval['end']}\")\n",
    "  plt.tight_layout()"
   ]
  },
  {
   "cell_type": "code",
   "execution_count": 7,
   "metadata": {},
   "outputs": [],
   "source": [
    "# The actual BigWig file\n",
    "plus_file = pyBigWig.open(str(signals[0]))\n",
    "minus_file = pyBigWig.open(str(signals[1]))"
   ]
  },
  {
   "cell_type": "code",
   "execution_count": 19,
   "metadata": {},
   "outputs": [],
   "source": [
    "# Get data\n",
    "seq_num = 10\n",
    "ser = sdata[[\"name\", \"chrom\", \"chromStart\", \"chromEnd\"]].to_dataframe().loc[seq_num]\n",
    "sdata_vals = sdata[\"cov\"][seq_num].values\n",
    "pybw_plus_vals = np.nan_to_num(np.array(plus_file.values(ser[\"chrom\"], ser[\"chromStart\"], ser[\"chromEnd\"])))\n",
    "pybw_minus_vals = np.nan_to_num(np.array(minus_file.values(ser[\"chrom\"], ser[\"chromStart\"], ser[\"chromEnd\"])))\n",
    "chrom = ser[\"chrom\"]\n",
    "chromStart = ser[\"chromStart\"]\n",
    "chromEnd = ser[\"chromEnd\"]\n",
    "interval = dict(chrom=chrom, start=chromStart, end=chromEnd)\n",
    "tracks = {\n",
    "    \"SeqData K562 CTCF ChIP-seq (+)\": np.squeeze(sdata_vals[0]),\n",
    "    \"SeqData K562 CTCF ChIP-seq (-)\": np.squeeze(sdata_vals[1]),\n",
    "    \"pyBigWig K562 CTCF ChIP-seq (+)\": np.squeeze(pybw_plus_vals),\n",
    "    \"pyBigWig K562 CTCF ChIP-seq (-)\": np.squeeze(pybw_minus_vals),\n",
    "\n",
    "} \n",
    "colors={\n",
    "    \"SeqData K562 CTCF ChIP-seq (+)\": \"lightblue\",\n",
    "    \"SeqData K562 CTCF ChIP-seq (-)\": \"lightcoral\",\n",
    "    \"pyBigWig K562 CTCF ChIP-seq (+)\": \"lightblue\",\n",
    "    \"pyBigWig K562 CTCF ChIP-seq (-)\": \"lightcoral\",\n",
    "}\n",
    "\n",
    "# Plot tracks\n",
    "plot_tracks(\n",
    "    tracks=tracks,\n",
    "    interval=interval,\n",
    "    colors=colors\n",
    ")"
   ]
  },
  {
   "cell_type": "markdown",
   "metadata": {},
   "source": [
    "# DONE!"
   ]
  },
  {
   "cell_type": "markdown",
   "metadata": {},
   "source": [
    "---"
   ]
  }
 ],
 "metadata": {
  "kernelspec": {
   "display_name": "Python 3.9 ml4gland",
   "language": "python",
   "name": "ml4gland"
  }
 },
 "nbformat": 4,
 "nbformat_minor": 2
}
